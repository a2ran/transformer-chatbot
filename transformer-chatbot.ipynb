{
 "cells": [
  {
   "cell_type": "markdown",
   "id": "81713f75",
   "metadata": {},
   "source": [
    "# tensorflow transformer 모델로 한국어 심리상담 챗봇 구현"
   ]
  },
  {
   "cell_type": "markdown",
   "id": "0bee9a28",
   "metadata": {},
   "source": [
    "## 한국어 문장 형태소 분석"
   ]
  },
  {
   "cell_type": "code",
   "execution_count": 1,
   "id": "3f569751",
   "metadata": {},
   "outputs": [
    {
     "name": "stderr",
     "output_type": "stream",
     "text": [
      "C:\\Users\\user\\anaconda3\\lib\\site-packages\\scipy\\__init__.py:146: UserWarning: A NumPy version >=1.16.5 and <1.23.0 is required for this version of SciPy (detected version 1.24.2\n",
      "  warnings.warn(f\"A NumPy version >={np_minversion} and <{np_maxversion}\"\n"
     ]
    }
   ],
   "source": [
    "# Prerequisites\n",
    "\n",
    "import logging\n",
    "import time\n",
    "import numpy as np\n",
    "import pandas as pd\n",
    "import matplotlib.pyplot as plt\n",
    "import seaborn as sns\n",
    "\n",
    "import tensorflow_datasets as tfds\n",
    "import tensorflow as tf\n",
    "import tensorflow_text"
   ]
  },
  {
   "cell_type": "markdown",
   "id": "148bdecb",
   "metadata": {},
   "source": [
    "### 사용 데이터셋: 웰니스 대화 스크립트 데이터셋(AI Hub, 2019)\n",
    "### 참고문헌: Translate Text with Transformer Models (Tensorflow, 2022)\n",
    "\n",
    "[https://www.tensorflow.org/text/tutorials/transformer](https://www.tensorflow.org/text/tutorials/transformer)"
   ]
  },
  {
   "cell_type": "code",
   "execution_count": 2,
   "id": "37e4fa30",
   "metadata": {},
   "outputs": [],
   "source": [
    "#심리상담 웰니스 대화 스크립트 데이터셋을 불러옵니다.\n",
    "\n",
    "df = pd.read_csv('all_wellness.csv')"
   ]
  },
  {
   "cell_type": "code",
   "execution_count": 4,
   "id": "856d30a9",
   "metadata": {},
   "outputs": [
    {
     "name": "stdout",
     "output_type": "stream",
     "text": [
      "(22595, 3)\n",
      "--------------------\n",
      "question     0\n",
      "response     0\n",
      "embedding    0\n",
      "dtype: int64\n",
      "--------------------\n"
     ]
    },
    {
     "data": {
      "text/html": [
       "<div>\n",
       "<style scoped>\n",
       "    .dataframe tbody tr th:only-of-type {\n",
       "        vertical-align: middle;\n",
       "    }\n",
       "\n",
       "    .dataframe tbody tr th {\n",
       "        vertical-align: top;\n",
       "    }\n",
       "\n",
       "    .dataframe thead th {\n",
       "        text-align: right;\n",
       "    }\n",
       "</style>\n",
       "<table border=\"1\" class=\"dataframe\">\n",
       "  <thead>\n",
       "    <tr style=\"text-align: right;\">\n",
       "      <th></th>\n",
       "      <th>question</th>\n",
       "      <th>response</th>\n",
       "      <th>embedding</th>\n",
       "    </tr>\n",
       "  </thead>\n",
       "  <tbody>\n",
       "    <tr>\n",
       "      <th>0</th>\n",
       "      <td>제 감정이 이상해진 것 같아요. 남편만 보면 화가 치밀어 오르고 감정 조절이 안되요.</td>\n",
       "      <td>감정이 조절이 안 될 때만큼 힘들 때는 없는 거 같아요.</td>\n",
       "      <td>[-0.4806065, -0.2948689, 0.43790027, -0.640137...</td>\n",
       "    </tr>\n",
       "    <tr>\n",
       "      <th>1</th>\n",
       "      <td>더 이상 내 감정을 내가 컨트롤 못 하겠어.</td>\n",
       "      <td>감정이 조절이 안 될 때만큼 힘들 때는 없는 거 같아요.</td>\n",
       "      <td>[-1.1561574, -0.14506218, 0.29490322, -0.67394...</td>\n",
       "    </tr>\n",
       "    <tr>\n",
       "      <th>2</th>\n",
       "      <td>하루종일 오르락내리락 롤러코스터 타는 기분이에요.</td>\n",
       "      <td>저도 그 기분 이해해요. 많이 힘드시죠?</td>\n",
       "      <td>[-0.66520023, -0.08126819, 1.0945566, 0.105791...</td>\n",
       "    </tr>\n",
       "    <tr>\n",
       "      <th>3</th>\n",
       "      <td>꼭 롤러코스터 타는 것 같아요.</td>\n",
       "      <td>감정이 조절이 안 될 때만큼 힘들 때는 없는 거 같아요.</td>\n",
       "      <td>[-0.2100391, 0.03955202, 1.0184706, -0.0718505...</td>\n",
       "    </tr>\n",
       "    <tr>\n",
       "      <th>4</th>\n",
       "      <td>롤러코스터 타는 것처럼 기분이 왔다 갔다 해요.</td>\n",
       "      <td>저도 그 기분 이해해요. 많이 힘드시죠?</td>\n",
       "      <td>[-0.43239346, -0.2468669, 0.9410948, -0.398536...</td>\n",
       "    </tr>\n",
       "  </tbody>\n",
       "</table>\n",
       "</div>"
      ],
      "text/plain": [
       "                                          question  \\\n",
       "0  제 감정이 이상해진 것 같아요. 남편만 보면 화가 치밀어 오르고 감정 조절이 안되요.   \n",
       "1                         더 이상 내 감정을 내가 컨트롤 못 하겠어.   \n",
       "2                      하루종일 오르락내리락 롤러코스터 타는 기분이에요.   \n",
       "3                                꼭 롤러코스터 타는 것 같아요.   \n",
       "4                       롤러코스터 타는 것처럼 기분이 왔다 갔다 해요.   \n",
       "\n",
       "                          response  \\\n",
       "0  감정이 조절이 안 될 때만큼 힘들 때는 없는 거 같아요.   \n",
       "1  감정이 조절이 안 될 때만큼 힘들 때는 없는 거 같아요.   \n",
       "2           저도 그 기분 이해해요. 많이 힘드시죠?   \n",
       "3  감정이 조절이 안 될 때만큼 힘들 때는 없는 거 같아요.   \n",
       "4           저도 그 기분 이해해요. 많이 힘드시죠?   \n",
       "\n",
       "                                           embedding  \n",
       "0  [-0.4806065, -0.2948689, 0.43790027, -0.640137...  \n",
       "1  [-1.1561574, -0.14506218, 0.29490322, -0.67394...  \n",
       "2  [-0.66520023, -0.08126819, 1.0945566, 0.105791...  \n",
       "3  [-0.2100391, 0.03955202, 1.0184706, -0.0718505...  \n",
       "4  [-0.43239346, -0.2468669, 0.9410948, -0.398536...  "
      ]
     },
     "execution_count": 4,
     "metadata": {},
     "output_type": "execute_result"
    }
   ],
   "source": [
    "print(df.shape)\n",
    "print('-' * 20)\n",
    "print(df.isnull().sum())\n",
    "print('-' * 20)\n",
    "df.head()"
   ]
  },
  {
   "cell_type": "markdown",
   "id": "b705e618",
   "metadata": {},
   "source": [
    "<img src = '1.png'>"
   ]
  },
  {
   "cell_type": "code",
   "execution_count": 17,
   "id": "9b6a8306",
   "metadata": {},
   "outputs": [],
   "source": [
    "# 한국어 형태소 분석기 Mecab을 정의합니다.\n",
    "\n",
    "from eunjeon import Mecab\n",
    "import re\n",
    "\n",
    "m = Mecab()\n",
    "\n",
    "def reg_kor(sentence):\n",
    "    \n",
    "    # 한국어, 숫자, 지정한 특수문자를 제외한 html 언어를 제거합니다.\n",
    "    sentence = re.sub('[^0-9가-힣!?,.()]', ' ', sentence)\n",
    "    \n",
    "    # 문장 양옆의 빈칸을 제거하고, 특수문자를 한 칸씩 띄어씁니다.\n",
    "    sentence = re.sub(r\"([,.?!])\", r\" \\1\", sentence.strip())\n",
    "    \n",
    "    # 두 칸 이상 벌어진 문자가 있으면 한 칸으로 통일해줍니다.\n",
    "    sentence = re.sub(r'[\" \"]+', \" \", sentence)\n",
    "    \n",
    "    # 한국어 형태소 분석기 mecab으로 형태소 분석을 진행합니다.\n",
    "    sentence = \" \".join(m.morphs(sentence))\n",
    "    \n",
    "    return sentence"
   ]
  },
  {
   "cell_type": "code",
   "execution_count": 18,
   "id": "f9fd7f81",
   "metadata": {},
   "outputs": [],
   "source": [
    "# 질문 문장데이터 array에 할당\n",
    "\n",
    "src_raw = np.array([reg_kor(df['question'][_]) for _ in range(len(df))])"
   ]
  },
  {
   "cell_type": "code",
   "execution_count": 19,
   "id": "fdff8acf",
   "metadata": {},
   "outputs": [
    {
     "name": "stdout",
     "output_type": "stream",
     "text": [
      "# 0 : 그 외 시간에는 늘 우울한 기분이 깔려 있어.\n",
      "# 1 : 2년전부터 많이 우울했어요.\n",
      "# 2 : 바쁠 땐 아무 생각이 없는데 한가해질 때면 우울함이 밀려와요.\n",
      "# 3 : 대학 졸업하고 우울한 기분이 들 때도 있었지만 '인생이 다 그렇지 뭐'라고 대수롭지 않게 여겼어.\n",
      "# 4 : 우울함은 돈으로 해결되는 부분이 아니니까요.\n"
     ]
    }
   ],
   "source": [
    "# 전처리 전 질문 문장\n",
    "\n",
    "for k, v in enumerate(df['question'][1000: 1005]):\n",
    "    print(f'# {k} : {v}')"
   ]
  },
  {
   "cell_type": "code",
   "execution_count": 20,
   "id": "c5ffec94",
   "metadata": {},
   "outputs": [
    {
     "name": "stdout",
     "output_type": "stream",
     "text": [
      "# 0 : 그 외 시간 에 는 늘 우울 한 기분 이 깔려 있 어 .\n",
      "# 1 : 2 년 전 부터 많이 우울 했 어요 .\n",
      "# 2 : 바쁠 땐 아무 생각 이 없 는데 한가 해질 때 면 우울 함 이 밀려 와요 .\n",
      "# 3 : 대학 졸업 하 고 우울 한 기분 이 들 때 도 있 었 지만 인생 이 다 그렇 지 뭐 라고 대수 롭 지 않 게 여겼 어 .\n",
      "# 4 : 우울 함 은 돈 으로 해결 되 는 부분 이 아니 니까요 .\n"
     ]
    }
   ],
   "source": [
    "# 질문 문장 예시\n",
    "\n",
    "for k, v in enumerate(src_raw[1000: 1005]):\n",
    "    print(f'# {k} : {v}')"
   ]
  },
  {
   "cell_type": "code",
   "execution_count": 21,
   "id": "ffccd122",
   "metadata": {},
   "outputs": [],
   "source": [
    "# 답변 문장데이터 array에 할당\n",
    "\n",
    "tgt_raw = np.array([reg_kor(df['response'][_]) for _ in range(len(df))])"
   ]
  },
  {
   "cell_type": "code",
   "execution_count": 22,
   "id": "07341f45",
   "metadata": {},
   "outputs": [
    {
     "name": "stdout",
     "output_type": "stream",
     "text": [
      "# 0 : 아무 이유 없이 우울할 때가 있죠.\n",
      "# 1 : 우울할 때는 칭찬타임! 오늘의 잘한 일을 말해봐요.\n",
      "# 2 : 그럴 때는 전문가에게 도움을 요청하는 것도 좋은 방법이에요.\n",
      "# 3 : 우울할 때는 칭찬타임! 오늘의 잘한 일을 말해봐요.\n",
      "# 4 : 그럴 때는 전문가에게 도움을 요청하는 것도 좋은 방법이에요.\n"
     ]
    }
   ],
   "source": [
    "# 전처리 전 답변 문장\n",
    "\n",
    "for k, v in enumerate(df['response'][1000: 1005]):\n",
    "    print(f'# {k} : {v}')"
   ]
  },
  {
   "cell_type": "code",
   "execution_count": 23,
   "id": "65f371ab",
   "metadata": {},
   "outputs": [
    {
     "name": "stdout",
     "output_type": "stream",
     "text": [
      "# 0 : 아무 이유 없이 우울 할 때 가 있 죠 .\n",
      "# 1 : 우울 할 때 는 칭찬 타임 ! 오늘 의 잘 한 일 을 말 해 봐요 .\n",
      "# 2 : 그럴 때 는 전문가 에게 도움 을 요청 하 는 것 도 좋 은 방법 이 에요 .\n",
      "# 3 : 우울 할 때 는 칭찬 타임 ! 오늘 의 잘 한 일 을 말 해 봐요 .\n",
      "# 4 : 그럴 때 는 전문가 에게 도움 을 요청 하 는 것 도 좋 은 방법 이 에요 .\n"
     ]
    }
   ],
   "source": [
    "# 답변 문장 예시\n",
    "\n",
    "for k, v in enumerate(tgt_raw[1000: 1005]):\n",
    "    print(f'# {k} : {v}')"
   ]
  },
  {
   "cell_type": "markdown",
   "id": "fc9db7c7",
   "metadata": {},
   "source": [
    "## Input & Output Embeddings"
   ]
  },
  {
   "cell_type": "markdown",
   "id": "344458a7",
   "metadata": {},
   "source": [
    "<img src = '2.png'>"
   ]
  },
  {
   "cell_type": "code",
   "execution_count": 24,
   "id": "9f3ed77d",
   "metadata": {},
   "outputs": [],
   "source": [
    "# 토큰화 하기 전 SOS, EOS 토큰들을 정의합니다.\n",
    "\n",
    "def sos_eos_tokenize(sentence):\n",
    "    sentence = tf.strings.join(['[START]', sentence, '[END]'], separator = ' ')\n",
    "    return sentence"
   ]
  },
  {
   "cell_type": "code",
   "execution_count": 26,
   "id": "86d9089c",
   "metadata": {},
   "outputs": [],
   "source": [
    "# train, validation 자료들을 랜덤하게 나눕니다.\n",
    "# train : validation = approximately 0.8 : 0.2\n",
    "\n",
    "bf_size = len(src_raw)\n",
    "\n",
    "rnd = np.random.uniform(size = (len(src_raw), )) < 0.8\n",
    "\n",
    "train_raw = (tf.data.Dataset\n",
    "             .from_tensor_slices((src_raw[rnd], tgt_raw[rnd]))\n",
    "             .shuffle(bf_size))\n",
    "\n",
    "validation_raw = (tf.data.Dataset\n",
    "             .from_tensor_slices((src_raw[~rnd], tgt_raw[~rnd]))\n",
    "             .shuffle(bf_size))"
   ]
  },
  {
   "cell_type": "code",
   "execution_count": 27,
   "id": "214ad02a",
   "metadata": {},
   "outputs": [],
   "source": [
    "# 형태소 분석한 한국어 단어들을 토큰화 합니다.\n",
    "# max_vocab_size = 10,000\n",
    "\n",
    "max_vocab_size = 10000\n",
    "\n",
    "src_text_processor = tf.keras.layers.TextVectorization(standardize = sos_eos_tokenize,\n",
    "                                                      max_tokens = max_vocab_size,\n",
    "                                                      ragged = True)\n",
    "\n",
    "tgt_text_processor = tf.keras.layers.TextVectorization(standardize = sos_eos_tokenize,\n",
    "                                                      max_tokens = max_vocab_size,\n",
    "                                                      ragged = True)\n",
    "\n",
    "src_text_processor.adapt(train_raw.map(lambda src, tgt: src))\n",
    "tgt_text_processor.adapt(train_raw.map(lambda src, tgt: tgt))"
   ]
  },
  {
   "cell_type": "code",
   "execution_count": 31,
   "id": "ba369964",
   "metadata": {},
   "outputs": [
    {
     "name": "stdout",
     "output_type": "stream",
     "text": [
      "# 0 : \n",
      "# 1 : [UNK]\n",
      "# 2 : [START]\n",
      "# 3 : [END]\n",
      "# 4 : .\n",
      "# 5 : 이\n",
      "# 6 : 는\n",
      "# 7 : 하\n",
      "# 8 : 고\n",
      "# 9 : 가\n"
     ]
    }
   ],
   "source": [
    "for k, v in enumerate(src_text_processor.get_vocabulary()[0:10]):\n",
    "    print(f'# {k} : {v}')"
   ]
  },
  {
   "cell_type": "code",
   "execution_count": 29,
   "id": "3d2f2dfa",
   "metadata": {},
   "outputs": [
    {
     "name": "stdout",
     "output_type": "stream",
     "text": [
      "# 0 : \n",
      "# 1 : [UNK]\n",
      "# 2 : [START]\n",
      "# 3 : [END]\n",
      "# 4 : .\n",
      "# 5 : 이\n",
      "# 6 : 을\n",
      "# 7 : 는\n",
      "# 8 : 하\n",
      "# 9 : 어요\n"
     ]
    }
   ],
   "source": [
    "for k, v in enumerate(tgt_text_processor.get_vocabulary()[:10]):\n",
    "    print(f'# {k} : {v}')"
   ]
  },
  {
   "cell_type": "code",
   "execution_count": 35,
   "id": "412ecbb1",
   "metadata": {},
   "outputs": [
    {
     "name": "stdout",
     "output_type": "stream",
     "text": [
      "18202\n",
      "4393\n",
      "% of train data : 80.56%\n"
     ]
    }
   ],
   "source": [
    "# train 데이터, validation 데이터의 크기\n",
    "\n",
    "print(len(train_raw))\n",
    "print(len(validation_raw))\n",
    "print(f'% of train data : {len(train_raw)/len(tgt_raw)*100:.2f}%')"
   ]
  },
  {
   "cell_type": "code",
   "execution_count": 49,
   "id": "019f89de",
   "metadata": {},
   "outputs": [
    {
     "data": {
      "text/plain": [
       "'제 감정 이 이상 해진 것 같 아요 . 남편 만 보 면 화 가 치밀 어 오르 고 감정 조절 이 안 되 요 .'"
      ]
     },
     "execution_count": 49,
     "metadata": {},
     "output_type": "execute_result"
    }
   ],
   "source": [
    "src_raw[0]"
   ]
  },
  {
   "cell_type": "code",
   "execution_count": 50,
   "id": "46a09428",
   "metadata": {},
   "outputs": [
    {
     "data": {
      "text/plain": [
       "<tf.Tensor: shape=(28,), dtype=int64, numpy=\n",
       "array([   2,  102,  226,    5,  153,  897,   26,   16,   67,    4,  108,\n",
       "         41,   55,   37,  200,    9, 1169,   10, 1128,    8,  226,  553,\n",
       "          5,   20,   47,  173,    4,    3], dtype=int64)>"
      ]
     },
     "execution_count": 50,
     "metadata": {},
     "output_type": "execute_result"
    }
   ],
   "source": [
    "tokenized = src_text_processor(src_raw[0])\n",
    "tokenized"
   ]
  },
  {
   "cell_type": "code",
   "execution_count": 51,
   "id": "b013e8b3",
   "metadata": {},
   "outputs": [
    {
     "data": {
      "text/plain": [
       "'[START] 제 감정 이 이상 해진 것 같 아요 . 남편 만 보 면 화 가 치밀 어 오르 고 감정 조절 이 안 되 요 . [END]'"
      ]
     },
     "execution_count": 51,
     "metadata": {},
     "output_type": "execute_result"
    }
   ],
   "source": [
    "src_vocab = np.array(src_text_processor.get_vocabulary())\n",
    "strings = src_vocab[tokenized.numpy()]\n",
    "' '.join(strings)"
   ]
  },
  {
   "cell_type": "code",
   "execution_count": 46,
   "id": "4aa8e3be",
   "metadata": {},
   "outputs": [
    {
     "data": {
      "text/plain": [
       "'감정 이 조절 이 안 될 때 만큼 힘들 때 는 없 는 거 같 아요 .'"
      ]
     },
     "execution_count": 46,
     "metadata": {},
     "output_type": "execute_result"
    }
   ],
   "source": [
    "tgt_raw[0]"
   ]
  },
  {
   "cell_type": "code",
   "execution_count": 47,
   "id": "2ec6c289",
   "metadata": {},
   "outputs": [
    {
     "data": {
      "text/plain": [
       "<tf.Tensor: shape=(19,), dtype=int64, numpy=\n",
       "array([  2, 247,   5, 736,   5,  85, 167,  65, 113,  64,  65,   7,  51,\n",
       "         7,  15,  31,  29,   4,   3], dtype=int64)>"
      ]
     },
     "execution_count": 47,
     "metadata": {},
     "output_type": "execute_result"
    }
   ],
   "source": [
    "tokenized = tgt_text_processor(tgt_raw[0])\n",
    "tokenized"
   ]
  },
  {
   "cell_type": "code",
   "execution_count": 48,
   "id": "dffc6036",
   "metadata": {},
   "outputs": [
    {
     "data": {
      "text/plain": [
       "'[START] 감정 이 조절 이 안 될 때 만큼 힘들 때 는 없 는 거 같 아요 . [END]'"
      ]
     },
     "execution_count": 48,
     "metadata": {},
     "output_type": "execute_result"
    }
   ],
   "source": [
    "tgt_vocab = np.array(tgt_text_processor.get_vocabulary())\n",
    "strings = tgt_vocab[tokenized.numpy()]\n",
    "' '.join(strings)"
   ]
  },
  {
   "cell_type": "code",
   "execution_count": 58,
   "id": "fe0332ff",
   "metadata": {},
   "outputs": [],
   "source": [
    "plt.rcParams['font.family'] = 'NanumGothic'"
   ]
  },
  {
   "cell_type": "markdown",
   "id": "c64dc44c",
   "metadata": {},
   "source": [
    "### 데이터 임베딩 결과"
   ]
  },
  {
   "cell_type": "code",
   "execution_count": 65,
   "id": "990ad91f",
   "metadata": {},
   "outputs": [
    {
     "data": {
      "text/plain": [
       "Text(0.5, 1.0, 'zero-padding 결과')"
      ]
     },
     "execution_count": 65,
     "metadata": {},
     "output_type": "execute_result"
    },
    {
     "data": {
      "image/png": "[encoded data removed]",
      "text/plain": [
       "<Figure size 720x432 with 2 Axes>"
      ]
     },
     "metadata": {
      "needs_background": "light"
     },
     "output_type": "display_data"
    }
   ],
   "source": [
    "zp = src_text_processor(src_raw[:30])\n",
    "plt.figure(figsize = (10, 6))\n",
    "\n",
    "plt.subplot(1, 2, 1)\n",
    "plt.pcolormesh(zp.to_tensor(), cmap = 'nipy_spectral')\n",
    "plt.title('토큰 벡터 배치')\n",
    "\n",
    "plt.subplot(1, 2, 2)\n",
    "plt.pcolormesh(zp.to_tensor() != 0, cmap = 'nipy_spectral')\n",
    "plt.title('zero-padding 결과')"
   ]
  },
  {
   "cell_type": "code",
   "execution_count": 66,
   "id": "ad19c3ce",
   "metadata": {},
   "outputs": [],
   "source": [
    "# Train, Validation 데이터셋을 zero-padded 토큰으로 변화합니다.\n",
    "# Transformer 모델에 사용하기 위해 한 단어의 텀을 가진 tgt_inputs, tgt_labels 변수를 분리하고,\n",
    "# tgt_in 변수와 src 변수를 묶어줍니다.\n",
    "\n",
    "MAX_TOKENS = 128\n",
    "\n",
    "def prepare_batch(src, tgt):\n",
    "    src = src_text_processor(src)\n",
    "    src = src[:, :MAX_TOKENS]\n",
    "    src = src.to_tensor()\n",
    "    \n",
    "    tgt = tgt_text_processor(tgt)\n",
    "    tgt = tgt[:, :(MAX_TOKENS + 1)]\n",
    "    tgt_inputs = tgt[:, :-1].to_tensor() # Drop [END] tokens\n",
    "    tgt_labels = tgt[:, 1:].to_tensor() # Drop [start] tokens\n",
    "\n",
    "    return (src, tgt_inputs), tgt_labels"
   ]
  },
  {
   "cell_type": "code",
   "execution_count": 67,
   "id": "810ae3ed",
   "metadata": {},
   "outputs": [],
   "source": [
    "# buffer_size : 20,000 크기의 buffer에 담은 후 변수들을 shuffle합니다.\n",
    "# batch_size : 배치 사이즈 = 64\n",
    "\n",
    "BUFFER_SIZE = 20000\n",
    "BATCH_SIZE = 64\n",
    "\n",
    "def make_batches(ds):\n",
    "    return (\n",
    "        ds.shuffle(BUFFER_SIZE)\n",
    "        .batch(BATCH_SIZE)\n",
    "        .map(prepare_batch, tf.data.AUTOTUNE)\n",
    "        .prefetch(buffer_size=tf.data.AUTOTUNE))"
   ]
  },
  {
   "cell_type": "code",
   "execution_count": 68,
   "id": "1027781e",
   "metadata": {},
   "outputs": [],
   "source": [
    "# Train과 Validation batches 만들기\n",
    "\n",
    "train_batches = make_batches(train_raw)\n",
    "val_batches = make_batches(validation_raw)"
   ]
  },
  {
   "cell_type": "code",
   "execution_count": 69,
   "id": "e4d14ba4",
   "metadata": {},
   "outputs": [
    {
     "name": "stdout",
     "output_type": "stream",
     "text": [
      "(64, 34)\n",
      "(64, 29)\n",
      "(64, 29)\n"
     ]
    }
   ],
   "source": [
    "for (q, a), a_labels in train_batches.take(1):\n",
    "    break\n",
    "\n",
    "print(q.shape)\n",
    "print(a.shape)\n",
    "print(a_labels.shape)"
   ]
  },
  {
   "cell_type": "code",
   "execution_count": 70,
   "id": "4ff600c5",
   "metadata": {},
   "outputs": [
    {
     "name": "stdout",
     "output_type": "stream",
     "text": [
      "tf.Tensor([   2   99   55    6   69   26    8    7   77 2103], shape=(10,), dtype=int64)\n",
      "tf.Tensor([  99   55    6   69   26    8    7   77 2103    8], shape=(10,), dtype=int64)\n"
     ]
    }
   ],
   "source": [
    "print(a[0][:10])\n",
    "print(a_labels[0][:10])"
   ]
  },
  {
   "cell_type": "code",
   "execution_count": 22,
   "id": "bf742826",
   "metadata": {},
   "outputs": [],
   "source": [
    "# Q, K, V 데이터를 정의했기에\n",
    "# 불필요한 데이터는 삭제합니다.\n",
    "\n",
    "del df\n",
    "del src_raw; del tgt_raw\n",
    "del train_raw\n",
    "del validation_raw"
   ]
  },
  {
   "cell_type": "markdown",
   "id": "f2bb7383",
   "metadata": {},
   "source": [
    "## Positional Encoding"
   ]
  },
  {
   "cell_type": "markdown",
   "id": "280b57e1",
   "metadata": {},
   "source": [
    "<img src = 'https://www.tensorflow.org/images/tutorials/transformer/PositionalEmbedding.png'>\n",
    "\n",
    "사진출처: [https://www.tensorflow.org/text/tutorials/transformer](https://www.tensorflow.org/text/tutorials/transformer)"
   ]
  },
  {
   "cell_type": "markdown",
   "id": "42f7b1b5",
   "metadata": {},
   "source": [
    "<img src = '4.png'>"
   ]
  },
  {
   "cell_type": "code",
   "execution_count": 81,
   "id": "4d3ddc9c",
   "metadata": {},
   "outputs": [],
   "source": [
    "#length = sentence에 존재할 수 있는 maximum amount of tokens (length = 2048)\n",
    "#depth = dimension of th emodel (d_model = 512)\n",
    "# i = ~ depth/2 = [0, ..., 255]\n",
    "\n",
    "def positional_encoding(length, depth):\n",
    "    # d_model/2\n",
    "    depth = depth/2\n",
    "\n",
    "    # pos = 토큰의 위치 [0, ..., 2047]\n",
    "    positions = np.arange(length)[:, np.newaxis]     # (seq, 1)\n",
    "    # i / (d_model/2) = 2i/d_model \n",
    "    depths = np.arange(depth)[np.newaxis, :]/depth   # (1, depth)\n",
    "      \n",
    "    # 1/10000^(2i/d_model)\n",
    "    angle_rates = 1 / (10000**depths)         # (1, depth)\n",
    "    # pos/(10000)^(2i/d_model)\n",
    "    angle_rads = positions * angle_rates      # (pos, depth)\n",
    "    \n",
    "    #[sin(0), cos(0)], [sin(2), cos(2)].... \n",
    "    pos_encoding = np.concatenate(\n",
    "        [np.sin(angle_rads), np.cos(angle_rads)],\n",
    "        axis = -1) \n",
    "    \n",
    "    # encoding한 값을 float으로 반환합니다.\n",
    "    return tf.cast(pos_encoding, dtype = tf.float32)"
   ]
  },
  {
   "cell_type": "code",
   "execution_count": 82,
   "id": "5b8aed4f",
   "metadata": {},
   "outputs": [],
   "source": [
    "class PositionalEmbedding(tf.keras.layers.Layer):\n",
    "    def __init__(self, vocab_size, d_model):\n",
    "        super().__init__()\n",
    "        self.d_model = d_model\n",
    "        self.embedding = tf.keras.layers.Embedding(vocab_size, d_model, mask_zero=True) \n",
    "        self.pos_encoding = positional_encoding(length = 2048, depth = d_model)\n",
    "\n",
    "    # embedding할 때, 길이를 맞추어주기 위해 padding 목적으로 넣은 zero-padded된 단어를 표시합니다.\n",
    "    def compute_mask(self, *args, **kwargs):\n",
    "        return self.embedding.compute_mask(*args, **kwargs)\n",
    "\n",
    "    # 호출 시\n",
    "    def call(self, x):\n",
    "        # 2048\n",
    "        length = tf.shape(x)[1]\n",
    "        # 앞서 정의한 float로 반환한 x (PE_pos)\n",
    "        x = self.embedding(x)\n",
    "        # This factor sets the relative scale of the embedding and positonal_encoding.\n",
    "        x *= tf.math.sqrt(tf.cast(self.d_model, tf.float32))      \n",
    "        x = x + self.pos_encoding[tf.newaxis, :length, :]\n",
    "        \n",
    "        return x"
   ]
  },
  {
   "cell_type": "code",
   "execution_count": 83,
   "id": "e98e0213",
   "metadata": {},
   "outputs": [],
   "source": [
    "# positional encoding을 진행한 후 embedding을 완료합니다.\n",
    "\n",
    "embed_kr = PositionalEmbedding(vocab_size = src_text_processor.vocabulary_size(), d_model = 512)\n",
    "embed_en = PositionalEmbedding(vocab_size = tgt_text_processor.vocabulary_size(), d_model = 512)\n",
    "\n",
    "q_emb = embed_kr(q)\n",
    "a_emb = embed_en(a)"
   ]
  },
  {
   "cell_type": "markdown",
   "id": "7c5e70ef",
   "metadata": {},
   "source": [
    "## Base Attention Layer"
   ]
  },
  {
   "cell_type": "markdown",
   "id": "0cfc9aa2",
   "metadata": {},
   "source": [
    "<img src = 'https://www.tensorflow.org/images/tutorials/transformer/BaseAttention.png' width = '400' align = 'left'>"
   ]
  },
  {
   "cell_type": "markdown",
   "id": "e72f72d3",
   "metadata": {},
   "source": [
    "사진출처: [https://www.tensorflow.org/text/tutorials/transformer](https://www.tensorflow.org/text/tutorials/transformer)"
   ]
  },
  {
   "cell_type": "markdown",
   "id": "d23bc733",
   "metadata": {},
   "source": [
    "<img src = '5.png'>"
   ]
  },
  {
   "cell_type": "code",
   "execution_count": 27,
   "id": "c70ec378",
   "metadata": {},
   "outputs": [],
   "source": [
    "# attention layer에 상속할 base attention layer을 정의합니다.\n",
    "\n",
    "class BaseAttention(tf.keras.layers.Layer):\n",
    "    def __init__(self, **kwargs):\n",
    "        super().__init__()\n",
    "        # Define multihead attention layer\n",
    "        self.mha = tf.keras.layers.MultiHeadAttention(**kwargs)\n",
    "        \n",
    "        # Define normalization layer =  LayerNorm()\n",
    "        self.layernorm = tf.keras.layers.LayerNormalization()\n",
    "        \n",
    "        # Define addition layer = (x + sublayer(x))\n",
    "        self.add = tf.keras.layers.Add()"
   ]
  },
  {
   "cell_type": "markdown",
   "id": "42b5162c",
   "metadata": {},
   "source": [
    "## Cross Attention Layer"
   ]
  },
  {
   "cell_type": "markdown",
   "id": "07e4ac3d",
   "metadata": {},
   "source": [
    "<img src = 'https://www.tensorflow.org/images/tutorials/transformer/CrossAttention.png' align = 'left' width = '400'>"
   ]
  },
  {
   "cell_type": "markdown",
   "id": "ec06fdfc",
   "metadata": {},
   "source": [
    "사진출처: [https://www.tensorflow.org/text/tutorials/transformer](https://www.tensorflow.org/text/tutorials/transformer)"
   ]
  },
  {
   "cell_type": "markdown",
   "id": "e28b899e",
   "metadata": {},
   "source": [
    "<img src = 6.png>"
   ]
  },
  {
   "cell_type": "code",
   "execution_count": 28,
   "id": "43244f50",
   "metadata": {},
   "outputs": [],
   "source": [
    "# Encoder의 결과값을 Decoder로 넘겨주는 attention layer입니다.\n",
    "# BaseAttention의 클래스를 상속합니다.\n",
    "\n",
    "class CrossAttention(BaseAttention):\n",
    "    # self-attention layer에서 x를, encoder에서 key, value를 받아옵니다.\n",
    "    def call(self, x, context):\n",
    "        attn_output, attn_scores = self.mha(query = x,\n",
    "                                            key = context,\n",
    "                                            value = context,\n",
    "                                            return_attention_scores = True)\n",
    "   \n",
    "        self.last_attn_scores = attn_scores\n",
    "\n",
    "        # Output (x) = LayerNorm(x + sublayer(x))\n",
    "        x = self.add([x, attn_output])\n",
    "        x = self.layernorm(x)\n",
    "\n",
    "        return x"
   ]
  },
  {
   "cell_type": "markdown",
   "id": "cb0fda8b",
   "metadata": {},
   "source": [
    "## Global Self-Attention Layer"
   ]
  },
  {
   "cell_type": "markdown",
   "id": "dd8fae19",
   "metadata": {},
   "source": [
    "<img src = 'https://www.tensorflow.org/images/tutorials/transformer/SelfAttention.png' align = 'left' width = '400'>\n",
    "<img src = 'https://www.tensorflow.org/images/tutorials/transformer/CausalSelfAttention.png' width = '400'>"
   ]
  },
  {
   "cell_type": "markdown",
   "id": "bf41176b",
   "metadata": {},
   "source": [
    "사진출처: [https://www.tensorflow.org/text/tutorials/transformer](https://www.tensorflow.org/text/tutorials/transformer)"
   ]
  },
  {
   "cell_type": "markdown",
   "id": "f4ba6fae",
   "metadata": {},
   "source": [
    "<img src = '7.png'>"
   ]
  },
  {
   "cell_type": "code",
   "execution_count": 30,
   "id": "0a128c50",
   "metadata": {},
   "outputs": [],
   "source": [
    "class GlobalSelfAttention(BaseAttention):\n",
    "    # Encoder, Decoder 각각에서 Query, Value, Key 값을 가져옵니다.\n",
    "    def call(self, x):\n",
    "        attn_output = self.mha(query = x,\n",
    "                               value = x,\n",
    "                               key = x)\n",
    "        \n",
    "        # Output (x) = LayerNorm(x + sublayer(x))\n",
    "        x = self.add([x, attn_output])\n",
    "        x = self.layernorm(x)\n",
    "    \n",
    "        return x"
   ]
  },
  {
   "cell_type": "markdown",
   "id": "ea4523be",
   "metadata": {},
   "source": [
    "## Casual Self Attention Layer"
   ]
  },
  {
   "cell_type": "code",
   "execution_count": 32,
   "id": "d1f2b785",
   "metadata": {},
   "outputs": [],
   "source": [
    "class CausalSelfAttention(BaseAttention):\n",
    "    # Encoder, Decoder 각각에서 Query, Value, Key 값을 가져옵니다.\n",
    "    def call(self, x):\n",
    "        attn_output = self.mha(query = x,\n",
    "                               value = x,\n",
    "                               key = x,\n",
    "                               use_causal_mask = True)\n",
    "        \n",
    "        # Output (x) = LayerNorm(x + sublayer(x))\n",
    "        x = self.add([x, attn_output])\n",
    "        x = self.layernorm(x)\n",
    "        \n",
    "        return x"
   ]
  },
  {
   "cell_type": "markdown",
   "id": "a81d64c4",
   "metadata": {},
   "source": [
    "## Feed Forward Layer"
   ]
  },
  {
   "cell_type": "markdown",
   "id": "7b4b13ac",
   "metadata": {},
   "source": [
    "<img src = 'https://www.tensorflow.org/images/tutorials/transformer/FeedForward.png' width = '400' align = 'left'>"
   ]
  },
  {
   "cell_type": "markdown",
   "id": "4273bc29",
   "metadata": {},
   "source": [
    "사진출처: [https://www.tensorflow.org/text/tutorials/transformer](https://www.tensorflow.org/text/tutorials/transformer)"
   ]
  },
  {
   "cell_type": "markdown",
   "id": "0f55f297",
   "metadata": {},
   "source": [
    "<img src = '8.png'>"
   ]
  },
  {
   "cell_type": "code",
   "execution_count": 34,
   "id": "219eea13",
   "metadata": {},
   "outputs": [],
   "source": [
    "# one-layer feedforward layer\n",
    "# dff (2048) -> d_model (512)\n",
    "\n",
    "class FeedForward(tf.keras.layers.Layer):\n",
    "    def __init__(self, d_model, dff, dropout_rate=0.1):\n",
    "        super().__init__()\n",
    "        self.seq = tf.keras.Sequential([\n",
    "            # 2048, relu\n",
    "            tf.keras.layers.Dense(dff, activation='relu'),\n",
    "            # 2048 -> 512\n",
    "            tf.keras.layers.Dense(d_model),\n",
    "            # 0.1만큼 overfitting 방지\n",
    "            tf.keras.layers.Dropout(dropout_rate)\n",
    "        ])\n",
    "        self.add = tf.keras.layers.Add()\n",
    "        self.layer_norm = tf.keras.layers.LayerNormalization()\n",
    "\n",
    "    def call(self, x):\n",
    "        # Output (x) = LayerNorm(x + sublayer(x))\n",
    "        x = self.add([x, self.seq(x)])\n",
    "        x = self.layer_norm(x) \n",
    "        return x"
   ]
  },
  {
   "cell_type": "markdown",
   "id": "8d5484f4",
   "metadata": {},
   "source": [
    "## Encoder Layer"
   ]
  },
  {
   "cell_type": "markdown",
   "id": "309e222b",
   "metadata": {},
   "source": [
    "<img src = 'https://www.tensorflow.org/images/tutorials/transformer/EncoderLayer.png' width = '450' align = 'left'>"
   ]
  },
  {
   "cell_type": "markdown",
   "id": "ce57ad61",
   "metadata": {},
   "source": [
    "사진출처: [https://www.tensorflow.org/text/tutorials/transformer](https://www.tensorflow.org/text/tutorials/transformer)"
   ]
  },
  {
   "cell_type": "markdown",
   "id": "ffddc01e",
   "metadata": {},
   "source": [
    "<img src = '9.png'>"
   ]
  },
  {
   "cell_type": "code",
   "execution_count": 36,
   "id": "80bd5934",
   "metadata": {},
   "outputs": [],
   "source": [
    "# n_layer중 하나의 Encoder layer 층\n",
    "\n",
    "class EncoderLayer(tf.keras.layers.Layer):\n",
    "    def __init__(self,*, d_model, num_heads, dff, dropout_rate=0.1):\n",
    "        super().__init__()\n",
    "        \n",
    "        # Encoder 층의 self-attention + Feed Forward 층을 정의합니다.\n",
    "        self.self_attention = GlobalSelfAttention(\n",
    "            num_heads = num_heads,\n",
    "            key_dim = d_model,\n",
    "            dropout = dropout_rate)\n",
    "        \n",
    "        self.ffn = FeedForward(d_model, dff)\n",
    "\n",
    "    def call(self, x):\n",
    "        x = self.self_attention(x)\n",
    "        x = self.ffn(x)\n",
    "        \n",
    "        return x"
   ]
  },
  {
   "cell_type": "code",
   "execution_count": 38,
   "id": "1109bd43",
   "metadata": {},
   "outputs": [],
   "source": [
    "# n_layer의 연산을 전부 수행한 Encoder 모델\n",
    "\n",
    "class Encoder(tf.keras.layers.Layer):\n",
    "    def __init__(self, *, num_layers, d_model, num_heads,\n",
    "                 dff, vocab_size, dropout_rate=0.1):\n",
    "        super().__init__()\n",
    "\n",
    "        self.d_model = d_model\n",
    "        self.num_layers = num_layers\n",
    "        \n",
    "        # 1. positional embedding 진행하기\n",
    "        self.pos_embedding = PositionalEmbedding(\n",
    "            vocab_size = vocab_size, d_model = d_model)\n",
    "        \n",
    "        self.enc_layers = [\n",
    "            # 2. Encoder layer (self-attention, feed forward num_layer 번만큼 반복)\n",
    "            EncoderLayer(d_model = d_model,\n",
    "                         num_heads = num_heads,\n",
    "                         dff = dff,\n",
    "                         dropout_rate = dropout_rate)    \n",
    "            for _ in range(num_layers)]\n",
    "        self.dropout = tf.keras.layers.Dropout(dropout_rate)\n",
    "\n",
    "    def call(self, x):\n",
    "        x = self.pos_embedding(x)\n",
    "    \n",
    "        x = self.dropout(x)\n",
    "\n",
    "        for i in range(self.num_layers):\n",
    "            x = self.enc_layers[i](x)\n",
    "\n",
    "        return x"
   ]
  },
  {
   "cell_type": "markdown",
   "id": "0c01fe73",
   "metadata": {},
   "source": [
    "## Decoder Layer"
   ]
  },
  {
   "cell_type": "markdown",
   "id": "ba404807",
   "metadata": {},
   "source": [
    "<img src = 'https://www.tensorflow.org/images/tutorials/transformer/DecoderLayer.png' width = '450' align = 'left'>"
   ]
  },
  {
   "cell_type": "markdown",
   "id": "4852955e",
   "metadata": {},
   "source": [
    "사진출처: [https://www.tensorflow.org/text/tutorials/transformer](https://www.tensorflow.org/text/tutorials/transformer)"
   ]
  },
  {
   "cell_type": "markdown",
   "id": "e7e50a6c",
   "metadata": {},
   "source": [
    "<img src = '10.png'>"
   ]
  },
  {
   "cell_type": "code",
   "execution_count": 40,
   "id": "8101843b",
   "metadata": {},
   "outputs": [],
   "source": [
    "# n_layer중 하나의 Decoder layer 층\n",
    "\n",
    "class DecoderLayer(tf.keras.layers.Layer):\n",
    "    def __init__(self, *, d_model, num_heads,\n",
    "                 dff, dropout_rate = 0.1):\n",
    "        super(DecoderLayer, self).__init__()\n",
    "\n",
    "        # Decoder 층의 self-attention + cross_attention + Feed Forward 층을 정의합니다.\n",
    "        self.causal_self_attention = CausalSelfAttention(\n",
    "            num_heads = num_heads,\n",
    "            key_dim = d_model,\n",
    "            dropout = dropout_rate)\n",
    "    \n",
    "        self.cross_attention = CrossAttention(\n",
    "            num_heads = num_heads,\n",
    "            key_dim = d_model,\n",
    "            dropout = dropout_rate)\n",
    "\n",
    "        self.ffn = FeedForward(d_model, dff)\n",
    "\n",
    "    def call(self, x, context):\n",
    "        x = self.causal_self_attention(x = x)\n",
    "        x = self.cross_attention(x = x, context = context)\n",
    "\n",
    "        self.last_attn_scores = self.cross_attention.last_attn_scores\n",
    "\n",
    "        x = self.ffn(x) \n",
    "        \n",
    "        return x"
   ]
  },
  {
   "cell_type": "code",
   "execution_count": 42,
   "id": "ef2ae30c",
   "metadata": {},
   "outputs": [],
   "source": [
    "class Decoder(tf.keras.layers.Layer):\n",
    "    def __init__(self, *, num_layers, d_model, num_heads,\n",
    "                 dff, vocab_size, dropout_rate=0.1):\n",
    "        super(Decoder, self).__init__()\n",
    "\n",
    "        self.d_model = d_model\n",
    "        self.num_layers = num_layers\n",
    "\n",
    "        # 1. positional embedding 진행하기\n",
    "        self.pos_embedding = PositionalEmbedding(vocab_size = vocab_size,\n",
    "                                                 d_model = d_model)\n",
    "        self.dropout = tf.keras.layers.Dropout(dropout_rate)\n",
    "        self.dec_layers = [\n",
    "            # 2. Decoder layer (self-attention, cross-attention, feed forward num_layer 번만큼 반복)\n",
    "            DecoderLayer(d_model = d_model, num_heads = num_heads,\n",
    "                         dff = dff, dropout_rate = dropout_rate)\n",
    "            for _ in range(num_layers)]\n",
    "\n",
    "        self.last_attn_scores = None\n",
    "\n",
    "    \n",
    "    def call(self, x, context):\n",
    "        x = self.pos_embedding(x) \n",
    "\n",
    "        x = self.dropout(x)\n",
    "\n",
    "        for i in range(self.num_layers):\n",
    "            x  = self.dec_layers[i](x, context)\n",
    "\n",
    "        self.last_attn_scores = self.dec_layers[-1].last_attn_scores\n",
    "\n",
    "        return x"
   ]
  },
  {
   "cell_type": "markdown",
   "id": "d4895f8e",
   "metadata": {},
   "source": [
    "## Transformer"
   ]
  },
  {
   "cell_type": "markdown",
   "id": "40c28d7f",
   "metadata": {},
   "source": [
    "<img src = 'https://www.tensorflow.org/images/tutorials/transformer/transformer.png' width = '400' align = 'left'>"
   ]
  },
  {
   "cell_type": "markdown",
   "id": "2c2c0360",
   "metadata": {},
   "source": [
    "사진출처: [https://www.tensorflow.org/text/tutorials/transformer](https://www.tensorflow.org/text/tutorials/transformer)"
   ]
  },
  {
   "cell_type": "markdown",
   "id": "60723f01",
   "metadata": {},
   "source": [
    "<img src = '11.png'>"
   ]
  },
  {
   "cell_type": "code",
   "execution_count": 45,
   "id": "ccd9e952",
   "metadata": {},
   "outputs": [],
   "source": [
    "class Transformer(tf.keras.Model):\n",
    "    def __init__(self, *, num_layers, d_model, num_heads, dff,\n",
    "                 input_vocab_size, target_vocab_size, dropout_rate=0.1):\n",
    "        super().__init__()\n",
    "        \n",
    "        self.encoder = Encoder(num_layers = num_layers, d_model = d_model,\n",
    "                               num_heads = num_heads, dff = dff,\n",
    "                               vocab_size = input_vocab_size,\n",
    "                               dropout_rate = dropout_rate)\n",
    "\n",
    "        self.decoder = Decoder(num_layers = num_layers, d_model = d_model,\n",
    "                               num_heads = num_heads, dff = dff,\n",
    "                               vocab_size = target_vocab_size,\n",
    "                               dropout_rate = dropout_rate)\n",
    "\n",
    "        self.final_layer = tf.keras.layers.Dense(target_vocab_size)\n",
    "\n",
    "    \n",
    "    def call(self, inputs):\n",
    "        context, x  = inputs\n",
    "        context = self.encoder(context) \n",
    "        x = self.decoder(x, context) \n",
    "        \n",
    "\n",
    "        logits = self.final_layer(x)\n",
    "\n",
    "        try:\n",
    "            # Drop the keras mask, so it doesn't scale the losses/metrics.\n",
    "            # b/250038731\n",
    "            del logits._keras_mask\n",
    "        except AttributeError:\n",
    "            pass\n",
    "\n",
    "        return logits"
   ]
  },
  {
   "cell_type": "markdown",
   "id": "9387f565",
   "metadata": {},
   "source": [
    "## Hyperparameters"
   ]
  },
  {
   "cell_type": "code",
   "execution_count": 96,
   "id": "13554efb",
   "metadata": {},
   "outputs": [],
   "source": [
    "# num_layers = encoder, decoder 6번 반복:\n",
    "# d_model = model 벡터의 dimension\n",
    "# num_heads = attention 병렬 연산하는 횟수\n",
    "# dff = model의 중간 학습 layer 크기\n",
    "\n",
    "num_layers = 6\n",
    "d_model = 512\n",
    "dff = 512\n",
    "num_heads = 8\n",
    "dropout_rate = 0.1"
   ]
  },
  {
   "cell_type": "markdown",
   "id": "4fd3a423",
   "metadata": {},
   "source": [
    "## Transformer Model"
   ]
  },
  {
   "cell_type": "code",
   "execution_count": 97,
   "id": "bbdc1ee0",
   "metadata": {},
   "outputs": [],
   "source": [
    "transformer = Transformer(\n",
    "    num_layers = num_layers,\n",
    "    d_model = d_model,\n",
    "    num_heads = num_heads,\n",
    "    dff = dff,\n",
    "    input_vocab_size = src_text_processor.vocabulary_size(),\n",
    "    target_vocab_size = tgt_text_processor.vocabulary_size(),\n",
    "    dropout_rate = dropout_rate)"
   ]
  },
  {
   "cell_type": "code",
   "execution_count": 100,
   "id": "446bf98a",
   "metadata": {},
   "outputs": [
    {
     "name": "stdout",
     "output_type": "stream",
     "text": [
      "Model: \"transformer_2\"\n",
      "_________________________________________________________________\n",
      " Layer (type)                Output Shape              Param #   \n",
      "=================================================================\n",
      " encoder_3 (Encoder)         multiple                  4983808   \n",
      "                                                                 \n",
      " decoder_3 (Decoder)         multiple                  7665024   \n",
      "                                                                 \n",
      " dense_76 (Dense)            multiple                  544509    \n",
      "                                                                 \n",
      "=================================================================\n",
      "Total params: 13,193,341\n",
      "Trainable params: 13,193,341\n",
      "Non-trainable params: 0\n",
      "_________________________________________________________________\n"
     ]
    }
   ],
   "source": [
    "# summary\n",
    "\n",
    "transformer.summary()"
   ]
  },
  {
   "cell_type": "markdown",
   "id": "819f4394",
   "metadata": {},
   "source": [
    "## Setting up optimized learning_rate\n",
    "\n",
    "$${lrate = d_{model}^{-0.5} * \\min(step{\\_}num^{-0.5}, step{\\_}num \\cdot warmup{\\_}steps^{-1.5})}$$"
   ]
  },
  {
   "cell_type": "code",
   "execution_count": 101,
   "id": "501913a7",
   "metadata": {},
   "outputs": [],
   "source": [
    "class CustomSchedule(tf.keras.optimizers.schedules.LearningRateSchedule):\n",
    "    def __init__(self, d_model, warmup_steps = 4000):\n",
    "        super().__init__()\n",
    "\n",
    "        self.d_model = d_model\n",
    "        self.d_model = tf.cast(self.d_model, tf.float32)\n",
    "\n",
    "        self.warmup_steps = warmup_steps\n",
    "\n",
    "    def __call__(self, step):\n",
    "        step = tf.cast(step, dtype=tf.float32)\n",
    "        arg1 = tf.math.rsqrt(step)\n",
    "        arg2 = step * (self.warmup_steps ** -1.5)\n",
    "\n",
    "        return tf.math.rsqrt(self.d_model) * tf.math.minimum(arg1, arg2)"
   ]
  },
  {
   "cell_type": "markdown",
   "id": "e66d52a5",
   "metadata": {},
   "source": [
    "## Define Optimizers"
   ]
  },
  {
   "cell_type": "code",
   "execution_count": 102,
   "id": "df4beb9a",
   "metadata": {},
   "outputs": [],
   "source": [
    "learning_rate = CustomSchedule(d_model)\n",
    "\n",
    "optimizer = tf.keras.optimizers.Adam(learning_rate, beta_1 = 0.9, beta_2 = 0.98,\n",
    "                                     epsilon = 1e-9)"
   ]
  },
  {
   "cell_type": "code",
   "execution_count": 103,
   "id": "c734d6cc",
   "metadata": {},
   "outputs": [
    {
     "data": {
      "text/plain": [
       "Text(0.5, 0, 'Train_step')"
      ]
     },
     "execution_count": 103,
     "metadata": {},
     "output_type": "execute_result"
    },
    {
     "data": {
      "image/png": "[encoded data removed]",
      "text/plain": [
       "<Figure size 432x288 with 1 Axes>"
      ]
     },
     "metadata": {
      "needs_background": "light"
     },
     "output_type": "display_data"
    }
   ],
   "source": [
    "plt.plot(learning_rate(tf.range(40000, dtype=tf.float32)))\n",
    "plt.ylabel('Learning_rate')\n",
    "plt.xlabel('Train_step')"
   ]
  },
  {
   "cell_type": "code",
   "execution_count": 104,
   "id": "47205f22",
   "metadata": {},
   "outputs": [],
   "source": [
    "# apply padding-mask when calculating a loss\n",
    "\n",
    "def masked_loss(label, pred):\n",
    "    mask = label != 0\n",
    "    loss_object = tf.keras.losses.SparseCategoricalCrossentropy(\n",
    "        from_logits=True, reduction='none')\n",
    "    loss = loss_object(label, pred)\n",
    "\n",
    "    mask = tf.cast(mask, dtype=loss.dtype)\n",
    "    loss *= mask\n",
    "\n",
    "    loss = tf.reduce_sum(loss)/tf.reduce_sum(mask)\n",
    "    \n",
    "    return loss\n",
    "\n",
    "\n",
    "def masked_accuracy(label, pred):\n",
    "    pred = tf.argmax(pred, axis=2)\n",
    "    label = tf.cast(label, pred.dtype)\n",
    "    match = label == pred\n",
    "\n",
    "    mask = label != 0\n",
    "\n",
    "    match = match & mask\n",
    "\n",
    "    match = tf.cast(match, dtype=tf.float32)\n",
    "    mask = tf.cast(mask, dtype=tf.float32)\n",
    "    \n",
    "    return tf.reduce_sum(match)/tf.reduce_sum(mask)"
   ]
  },
  {
   "cell_type": "markdown",
   "id": "8a258f25",
   "metadata": {},
   "source": [
    "## Train model"
   ]
  },
  {
   "cell_type": "markdown",
   "id": "66100a75",
   "metadata": {},
   "source": [
    "<img src = '12.png'>"
   ]
  },
  {
   "cell_type": "code",
   "execution_count": 105,
   "id": "4d855ee5",
   "metadata": {},
   "outputs": [],
   "source": [
    "transformer.compile(\n",
    "    loss = masked_loss,\n",
    "    optimizer = optimizer,\n",
    "    metrics = [masked_accuracy])"
   ]
  },
  {
   "cell_type": "code",
   "execution_count": 106,
   "id": "3addcf8f",
   "metadata": {},
   "outputs": [
    {
     "name": "stdout",
     "output_type": "stream",
     "text": [
      "Epoch 1/20\n",
      "283/283 [==============================] - 655s 2s/step - loss: 7.3346 - masked_accuracy: 0.1156 - val_loss: 5.9918 - val_masked_accuracy: 0.1658\n",
      "Epoch 2/20\n",
      "283/283 [==============================] - 642s 2s/step - loss: 4.9195 - masked_accuracy: 0.2659 - val_loss: 3.8787 - val_masked_accuracy: 0.4090\n",
      "Epoch 3/20\n",
      "283/283 [==============================] - 638s 2s/step - loss: 3.3443 - masked_accuracy: 0.4457 - val_loss: 2.7864 - val_masked_accuracy: 0.5177\n",
      "Epoch 4/20\n",
      "283/283 [==============================] - 611s 2s/step - loss: 2.5466 - masked_accuracy: 0.5563 - val_loss: 2.2655 - val_masked_accuracy: 0.6079\n",
      "Epoch 5/20\n",
      "283/283 [==============================] - 629s 2s/step - loss: 2.1357 - masked_accuracy: 0.6174 - val_loss: 2.0331 - val_masked_accuracy: 0.6410\n",
      "Epoch 6/20\n",
      "283/283 [==============================] - 619s 2s/step - loss: 1.9130 - masked_accuracy: 0.6455 - val_loss: 1.9168 - val_masked_accuracy: 0.6528\n",
      "Epoch 7/20\n",
      "283/283 [==============================] - 620s 2s/step - loss: 1.7639 - masked_accuracy: 0.6650 - val_loss: 1.8195 - val_masked_accuracy: 0.6701\n",
      "Epoch 8/20\n",
      "283/283 [==============================] - 626s 2s/step - loss: 1.6468 - masked_accuracy: 0.6807 - val_loss: 1.7555 - val_masked_accuracy: 0.6798\n",
      "Epoch 9/20\n",
      "283/283 [==============================] - 614s 2s/step - loss: 1.5500 - masked_accuracy: 0.6944 - val_loss: 1.7181 - val_masked_accuracy: 0.6880\n",
      "Epoch 10/20\n",
      "283/283 [==============================] - 626s 2s/step - loss: 1.4680 - masked_accuracy: 0.7052 - val_loss: 1.6715 - val_masked_accuracy: 0.6944\n",
      "Epoch 11/20\n",
      "283/283 [==============================] - 622s 2s/step - loss: 1.4026 - masked_accuracy: 0.7142 - val_loss: 1.6316 - val_masked_accuracy: 0.7019\n",
      "Epoch 12/20\n",
      "283/283 [==============================] - 620s 2s/step - loss: 1.3422 - masked_accuracy: 0.7232 - val_loss: 1.6347 - val_masked_accuracy: 0.7067\n",
      "Epoch 13/20\n",
      "283/283 [==============================] - 617s 2s/step - loss: 1.2967 - masked_accuracy: 0.7291 - val_loss: 1.6222 - val_masked_accuracy: 0.7067\n",
      "Epoch 14/20\n",
      "283/283 [==============================] - 612s 2s/step - loss: 1.2516 - masked_accuracy: 0.7362 - val_loss: 1.5856 - val_masked_accuracy: 0.7147\n",
      "Epoch 15/20\n",
      "283/283 [==============================] - 609s 2s/step - loss: 1.2010 - masked_accuracy: 0.7432 - val_loss: 1.5523 - val_masked_accuracy: 0.7212\n",
      "Epoch 16/20\n",
      "283/283 [==============================] - 619s 2s/step - loss: 1.1304 - masked_accuracy: 0.7552 - val_loss: 1.5511 - val_masked_accuracy: 0.7232\n",
      "Epoch 17/20\n",
      "283/283 [==============================] - 614s 2s/step - loss: 1.0629 - masked_accuracy: 0.7663 - val_loss: 1.5111 - val_masked_accuracy: 0.7352\n",
      "Epoch 18/20\n",
      "283/283 [==============================] - 611s 2s/step - loss: 1.0068 - masked_accuracy: 0.7763 - val_loss: 1.4974 - val_masked_accuracy: 0.7395\n",
      "Epoch 19/20\n",
      "283/283 [==============================] - 659s 2s/step - loss: 0.9559 - masked_accuracy: 0.7857 - val_loss: 1.4914 - val_masked_accuracy: 0.7455\n",
      "Epoch 20/20\n",
      "283/283 [==============================] - 889s 3s/step - loss: 0.9110 - masked_accuracy: 0.7943 - val_loss: 1.5163 - val_masked_accuracy: 0.7474\n"
     ]
    }
   ],
   "source": [
    "history = transformer.fit(train_batches,\n",
    "                epochs = 20,\n",
    "                validation_data = val_batches,\n",
    "                callbacks=[\n",
    "                    tf.keras.callbacks.EarlyStopping(patience = 3)])"
   ]
  },
  {
   "cell_type": "code",
   "execution_count": 108,
   "id": "a55201d1",
   "metadata": {},
   "outputs": [
    {
     "data": {
      "text/plain": [
       "<matplotlib.legend.Legend at 0x1cc8040ad00>"
      ]
     },
     "execution_count": 108,
     "metadata": {},
     "output_type": "execute_result"
    },
    {
     "data": {
      "image/png": "[encoded data removed]",
      "text/plain": [
       "<Figure size 432x288 with 1 Axes>"
      ]
     },
     "metadata": {
      "needs_background": "light"
     },
     "output_type": "display_data"
    }
   ],
   "source": [
    "# 모델의 loss을 확인합니다.\n",
    "\n",
    "plt.plot(history.history['loss'], label='loss', c = 'b')\n",
    "plt.plot(history.history['val_loss'], label='val_masked_loss', c = 'r')\n",
    "\n",
    "plt.ylim([0, max(plt.ylim())])\n",
    "plt.xlabel('Epoch #')\n",
    "plt.ylabel('loss')\n",
    "plt.legend()"
   ]
  },
  {
   "cell_type": "code",
   "execution_count": 114,
   "id": "14f5deb2",
   "metadata": {},
   "outputs": [
    {
     "data": {
      "text/html": [
       "<div>\n",
       "<style scoped>\n",
       "    .dataframe tbody tr th:only-of-type {\n",
       "        vertical-align: middle;\n",
       "    }\n",
       "\n",
       "    .dataframe tbody tr th {\n",
       "        vertical-align: top;\n",
       "    }\n",
       "\n",
       "    .dataframe thead th {\n",
       "        text-align: right;\n",
       "    }\n",
       "</style>\n",
       "<table border=\"1\" class=\"dataframe\">\n",
       "  <thead>\n",
       "    <tr style=\"text-align: right;\">\n",
       "      <th></th>\n",
       "      <th>loss</th>\n",
       "      <th>val_loss</th>\n",
       "    </tr>\n",
       "  </thead>\n",
       "  <tbody>\n",
       "    <tr>\n",
       "      <th>0</th>\n",
       "      <td>0.955903</td>\n",
       "      <td>1.491439</td>\n",
       "    </tr>\n",
       "    <tr>\n",
       "      <th>1</th>\n",
       "      <td>1.006782</td>\n",
       "      <td>1.497360</td>\n",
       "    </tr>\n",
       "    <tr>\n",
       "      <th>2</th>\n",
       "      <td>1.062898</td>\n",
       "      <td>1.511066</td>\n",
       "    </tr>\n",
       "    <tr>\n",
       "      <th>3</th>\n",
       "      <td>0.911044</td>\n",
       "      <td>1.516273</td>\n",
       "    </tr>\n",
       "    <tr>\n",
       "      <th>4</th>\n",
       "      <td>1.130434</td>\n",
       "      <td>1.551142</td>\n",
       "    </tr>\n",
       "  </tbody>\n",
       "</table>\n",
       "</div>"
      ],
      "text/plain": [
       "       loss  val_loss\n",
       "0  0.955903  1.491439\n",
       "1  1.006782  1.497360\n",
       "2  1.062898  1.511066\n",
       "3  0.911044  1.516273\n",
       "4  1.130434  1.551142"
      ]
     },
     "execution_count": 114,
     "metadata": {},
     "output_type": "execute_result"
    }
   ],
   "source": [
    "df_loss = pd.DataFrame({'loss' : history.history['loss'],\n",
    "                       'val_loss' : history.history['val_loss']})\n",
    "df_loss = df_loss.sort_values(by = 'val_loss').reset_index(drop = True)\n",
    "df_loss.head()"
   ]
  },
  {
   "cell_type": "code",
   "execution_count": 115,
   "id": "334aabc5",
   "metadata": {},
   "outputs": [
    {
     "data": {
      "text/plain": [
       "<matplotlib.legend.Legend at 0x1cca1e8cfd0>"
      ]
     },
     "execution_count": 115,
     "metadata": {},
     "output_type": "execute_result"
    },
    {
     "data": {
      "image/png": "[encoded data removed]",
      "text/plain": [
       "<Figure size 432x288 with 1 Axes>"
      ]
     },
     "metadata": {
      "needs_background": "light"
     },
     "output_type": "display_data"
    }
   ],
   "source": [
    "# 모델의 정확도를 확인합니다.\n",
    "\n",
    "plt.plot(history.history['masked_accuracy'], label='accuracy', c = 'b')\n",
    "plt.plot(history.history['val_masked_accuracy'], label='masked_accuracy', c = 'r')\n",
    "\n",
    "plt.ylim([0, max(plt.ylim())])\n",
    "plt.xlabel('Epoch #')\n",
    "plt.ylabel('accuracy')\n",
    "plt.legend()"
   ]
  },
  {
   "cell_type": "code",
   "execution_count": 118,
   "id": "c28521fc",
   "metadata": {},
   "outputs": [
    {
     "data": {
      "text/html": [
       "<div>\n",
       "<style scoped>\n",
       "    .dataframe tbody tr th:only-of-type {\n",
       "        vertical-align: middle;\n",
       "    }\n",
       "\n",
       "    .dataframe tbody tr th {\n",
       "        vertical-align: top;\n",
       "    }\n",
       "\n",
       "    .dataframe thead th {\n",
       "        text-align: right;\n",
       "    }\n",
       "</style>\n",
       "<table border=\"1\" class=\"dataframe\">\n",
       "  <thead>\n",
       "    <tr style=\"text-align: right;\">\n",
       "      <th></th>\n",
       "      <th>acc</th>\n",
       "      <th>val_acc</th>\n",
       "    </tr>\n",
       "  </thead>\n",
       "  <tbody>\n",
       "    <tr>\n",
       "      <th>0</th>\n",
       "      <td>0.794280</td>\n",
       "      <td>0.747361</td>\n",
       "    </tr>\n",
       "    <tr>\n",
       "      <th>1</th>\n",
       "      <td>0.785688</td>\n",
       "      <td>0.745479</td>\n",
       "    </tr>\n",
       "    <tr>\n",
       "      <th>2</th>\n",
       "      <td>0.776348</td>\n",
       "      <td>0.739526</td>\n",
       "    </tr>\n",
       "    <tr>\n",
       "      <th>3</th>\n",
       "      <td>0.766270</td>\n",
       "      <td>0.735167</td>\n",
       "    </tr>\n",
       "    <tr>\n",
       "      <th>4</th>\n",
       "      <td>0.755156</td>\n",
       "      <td>0.723194</td>\n",
       "    </tr>\n",
       "  </tbody>\n",
       "</table>\n",
       "</div>"
      ],
      "text/plain": [
       "        acc   val_acc\n",
       "0  0.794280  0.747361\n",
       "1  0.785688  0.745479\n",
       "2  0.776348  0.739526\n",
       "3  0.766270  0.735167\n",
       "4  0.755156  0.723194"
      ]
     },
     "execution_count": 118,
     "metadata": {},
     "output_type": "execute_result"
    }
   ],
   "source": [
    "df_acc = pd.DataFrame({'acc' : history.history['masked_accuracy'],\n",
    "                       'val_acc' : history.history['val_masked_accuracy']})\n",
    "df_acc = df_acc.sort_values(by = 'val_acc', ascending = False).reset_index(drop = True)\n",
    "df_acc.head()"
   ]
  },
  {
   "cell_type": "markdown",
   "id": "55f88227",
   "metadata": {},
   "source": [
    "## Predict new sentences"
   ]
  },
  {
   "cell_type": "markdown",
   "id": "2558f87e",
   "metadata": {},
   "source": [
    "<img src = '15.png'>"
   ]
  },
  {
   "cell_type": "code",
   "execution_count": 903,
   "id": "43244079",
   "metadata": {},
   "outputs": [],
   "source": [
    "tgt_vocab = tgt_text_processor.get_vocabulary()\n",
    "\n",
    "tgt_index_to_word = {}\n",
    "for index, word in enumerate(tgt_vocab):\n",
    "    tgt_index_to_word[index] = word"
   ]
  },
  {
   "cell_type": "code",
   "execution_count": 1169,
   "id": "f15e5270",
   "metadata": {},
   "outputs": [],
   "source": [
    "class Translator(tf.Module):\n",
    "    def __init__(self, transformer, src_txt_processor, tgt_txt_processor):\n",
    "        self.transformer = transformer\n",
    "        self.src_txt_processor = src_txt_processor\n",
    "        self.tgt_txt_processor = tgt_txt_processor\n",
    "\n",
    "    def __call__(self, sentence, max_length = MAX_TOKENS):\n",
    "        # The input sentence is Korean, hence adding the `[START]` and `[END]` tokens.\n",
    "        assert isinstance(sentence, tf.Tensor)\n",
    "        if len(sentence.shape) == 0:\n",
    "            sentence = sentence[tf.newaxis]\n",
    "            \n",
    "        texts = tf.convert_to_tensor(sentence)\n",
    "        sentence = self.src_txt_processor(texts).to_tensor()\n",
    "    \n",
    "        encoder_input = sentence\n",
    "\n",
    "        # As the output language is English, initialize the output with the\n",
    "        # English `[START]` token.\n",
    "        start = [2]\n",
    "        end = [3]\n",
    "\n",
    "        # `tf.TensorArray` is required here (instead of a Python list), so that the\n",
    "        # dynamic-loop can be traced by `tf.function`.\n",
    "        output_array = tf.TensorArray(dtype=tf.int64, size=0, dynamic_size = True)\n",
    "        output_array = output_array.write(0, start)\n",
    "        \n",
    "        for i in tf.range(max_length):\n",
    "            output = tf.transpose(output_array.stack())\n",
    "            predictions = self.transformer([encoder_input, output], training = False)\n",
    "\n",
    "            # Select the last token from the `seq_len` dimension.\n",
    "            predictions = predictions[:, -1:, :]  # Shape `(batch_size, 1, vocab_size)`.\n",
    "\n",
    "            predicted_id = tf.argmax(predictions, axis = -1)\n",
    "\n",
    "            # Concatenate the `predicted_id` to the output which is given to the\n",
    "            # decoder as its input.\n",
    "            output_array = output_array.write(i+1, predicted_id[0])\n",
    "\n",
    "            if predicted_id == end:\n",
    "                break\n",
    "        \n",
    "        tgt_vocab = self.tgt_txt_processor.get_vocabulary()\n",
    "\n",
    "        tgt_index_to_word = {}\n",
    "        for index, word in enumerate(tgt_vocab):\n",
    "            tgt_index_to_word[index] = word\n",
    "    \n",
    "        output = tf.transpose(output_array.stack())\n",
    "        # The output shape is `(1, tokens)`\n",
    "        text = \" \".join([tgt_index_to_word.get(_) for _ in output[0].numpy()[1: -1]])\n",
    "        tokens = output\n",
    "\n",
    "        # `tf.function` prevents us from using the attention_weights that were\n",
    "        # calculated on the last iteration of the loop.\n",
    "        # So, recalculate them outside the loop.\n",
    "        self.transformer([encoder_input, output[:,:-1]], training=False)\n",
    "        attention_weights = self.transformer.decoder.last_attn_scores\n",
    "\n",
    "        return text, tokens, attention_weights"
   ]
  },
  {
   "cell_type": "code",
   "execution_count": 1170,
   "id": "a6de2897",
   "metadata": {},
   "outputs": [],
   "source": [
    "translator = Translator(transformer, src_text_processor, tgt_text_processor)"
   ]
  },
  {
   "cell_type": "code",
   "execution_count": 1180,
   "id": "87324466",
   "metadata": {},
   "outputs": [],
   "source": [
    "def print_translation(sentence, tokens):\n",
    "    print(f'{\"Input:\":15s}: {sentence}')\n",
    "    print(f'{\"Prediction\":15s}: {tokens}')"
   ]
  },
  {
   "cell_type": "code",
   "execution_count": 1214,
   "id": "9f33a054",
   "metadata": {},
   "outputs": [
    {
     "name": "stdout",
     "output_type": "stream",
     "text": [
      "Q :  도무지 해결 할 수 없는 일들이 마구잡이로 벌어지고 있어요.\n",
      "--------------------\n",
      "A :  그런 일 이 있 으셨 군요 .\n"
     ]
    }
   ],
   "source": [
    "inp = '도무지 해결 할 수 없는 일들이 마구잡이로 벌어지고 있어요.'\n",
    "print('Q : ', inp)\n",
    "print('-' * 20)\n",
    "sentence = reg_kor(inp)\n",
    "translated_text, translated_tokens, attention_weights = translator(\n",
    "    tf.constant(sentence))\n",
    "print('A : ', translated_text)"
   ]
  },
  {
   "cell_type": "code",
   "execution_count": 1216,
   "id": "470293f1",
   "metadata": {},
   "outputs": [
    {
     "name": "stdout",
     "output_type": "stream",
     "text": [
      "Q :  어제 여자친구랑 헤어졌어요.\n",
      "--------------------\n",
      "A :  마음 이 복잡 하 겠 어요 .\n"
     ]
    }
   ],
   "source": [
    "inp = '어제 여자친구랑 헤어졌어요.'\n",
    "print('Q : ', inp)\n",
    "print('-' * 20)\n",
    "sentence = reg_kor(inp)\n",
    "translated_text, translated_tokens, attention_weights = translator(\n",
    "    tf.constant(sentence))\n",
    "print('A : ', translated_text)"
   ]
  },
  {
   "cell_type": "code",
   "execution_count": 1217,
   "id": "dcc757de",
   "metadata": {},
   "outputs": [
    {
     "name": "stdout",
     "output_type": "stream",
     "text": [
      "Q :  몸이 아파서 제대로 생활하지 못하겠어요.\n",
      "--------------------\n",
      "A :  저 는 당신 이 있 어 행복 한데 그런 당신 도 행복 했 으면 좋 겠 어요 .\n"
     ]
    }
   ],
   "source": [
    "inp = '몸이 아파서 제대로 생활하지 못하겠어요.'\n",
    "print('Q : ', inp)\n",
    "print('-' * 20)\n",
    "sentence = reg_kor(inp)\n",
    "translated_text, translated_tokens, attention_weights = translator(\n",
    "    tf.constant(sentence))\n",
    "print('A : ', translated_text)"
   ]
  },
  {
   "cell_type": "code",
   "execution_count": 1221,
   "id": "8ff7d9e9",
   "metadata": {},
   "outputs": [
    {
     "name": "stdout",
     "output_type": "stream",
     "text": [
      "Q :  죽을 것 같이 힘들어요.\n",
      "--------------------\n",
      "A :  꼭 전화 하 셔서 도움 을 받 으시 길 바라 요 . [ 24 시간 전화 상담 ] 희망 의 전화 129 청소년 전화 1388 자살 예방 핫라인 1577 - 0199 생명 의 전화 1588 - 9191 사랑 의 전화 상담 센터 1566 - 2525\n"
     ]
    }
   ],
   "source": [
    "inp = '죽을 것 같이 힘들어요.'\n",
    "print('Q : ', inp)\n",
    "print('-' * 20)\n",
    "sentence = reg_kor(inp)\n",
    "translated_text, translated_tokens, attention_weights = translator(\n",
    "    tf.constant(sentence))\n",
    "print('A : ', translated_text)"
   ]
  },
  {
   "cell_type": "code",
   "execution_count": 1228,
   "id": "b99e0e8e",
   "metadata": {},
   "outputs": [
    {
     "name": "stdout",
     "output_type": "stream",
     "text": [
      "Q :  특별히 잘하는 것이 없는 제가 싫어요.\n",
      "--------------------\n",
      "A :  마음 이 복잡 하 겠 어요 .\n"
     ]
    }
   ],
   "source": [
    "inp = '특별히 잘하는 것이 없는 제가 싫어요.'\n",
    "print('Q : ', inp)\n",
    "print('-' * 20)\n",
    "sentence = reg_kor(inp)\n",
    "translated_text, translated_tokens, attention_weights = translator(\n",
    "    tf.constant(sentence))\n",
    "print('A : ', translated_text)"
   ]
  },
  {
   "cell_type": "code",
   "execution_count": 1229,
   "id": "14b24693",
   "metadata": {},
   "outputs": [
    {
     "name": "stdout",
     "output_type": "stream",
     "text": [
      "Q :  다른 사람 말에 지나치게 민감해요.\n",
      "--------------------\n",
      "A :  갑자기 숨 이 잘 안 쉬 어 지 면 정말 힘들 것 같 아요 . 지금 은 괜찮 으신 가요 ?\n"
     ]
    }
   ],
   "source": [
    "inp = '다른 사람 말에 지나치게 민감해요.'\n",
    "print('Q : ', inp)\n",
    "print('-' * 20)\n",
    "sentence = reg_kor(inp)\n",
    "translated_text, translated_tokens, attention_weights = translator(\n",
    "    tf.constant(sentence))\n",
    "print('A : ', translated_text)"
   ]
  },
  {
   "cell_type": "markdown",
   "id": "6f842eba",
   "metadata": {},
   "source": [
    "# Attention Plots"
   ]
  },
  {
   "cell_type": "code",
   "execution_count": 136,
   "id": "bf4ca70e",
   "metadata": {},
   "outputs": [],
   "source": [
    "def plot_attention_head(in_tokens, translated_tokens, attention):\n",
    "    # The model didn't generate `<START>` in the output. Skip it.\n",
    "    translated_tokens = translated_tokens.reshape(-1)[1:]\n",
    "    \n",
    "    ax = plt.gca()\n",
    "    ax.matshow(attention)\n",
    "    ax.set_xticks(range(len(in_tokens)))\n",
    "    ax.set_yticks(range(len(translated_tokens)))\n",
    "\n",
    "    labels = [src_index_to_word.get(_) for _ in in_tokens.numpy()]\n",
    "    ax.set_xticklabels(labels, rotation=90)\n",
    "\n",
    "    labels = [tgt_index_to_word.get(_) for _  in translated_tokens]\n",
    "    ax.set_yticklabels(labels)"
   ]
  },
  {
   "cell_type": "code",
   "execution_count": 137,
   "id": "6fb90a11",
   "metadata": {},
   "outputs": [
    {
     "data": {
      "text/plain": [
       "TensorShape([16, 14])"
      ]
     },
     "execution_count": 137,
     "metadata": {},
     "output_type": "execute_result"
    }
   ],
   "source": [
    "head = 0\n",
    "# Shape: `(batch=1, num_heads, seq_len_q, seq_len_k)`.\n",
    "attention_heads = tf.squeeze(attention_weights, 0)\n",
    "attention = attention_heads[head]\n",
    "attention.shape"
   ]
  },
  {
   "cell_type": "code",
   "execution_count": 139,
   "id": "eee48d9c",
   "metadata": {},
   "outputs": [],
   "source": [
    "def plot_attention_weights(sentence, translated_tokens, attention_heads):\n",
    "    in_tokens = tf.convert_to_tensor(sentence)\n",
    "    in_tokens = src_text_processor(in_tokens)\n",
    "\n",
    "    fig = plt.figure(figsize=(12, 24))\n",
    "\n",
    "    for h, head in enumerate(attention_heads):\n",
    "        ax = fig.add_subplot(4, 2, h+1)\n",
    "\n",
    "        plot_attention_head(in_tokens, translated_tokens, head)\n",
    "\n",
    "        ax.set_xlabel(f'Head {h+1}')\n",
    "\n",
    "    plt.tight_layout()\n",
    "    plt.show()"
   ]
  },
  {
   "cell_type": "code",
   "execution_count": 140,
   "id": "0e7d5b75",
   "metadata": {},
   "outputs": [
    {
     "data": {
      "image/png": "[encoded data removed]",
      "text/plain": [
       "<Figure size 864x1728 with 8 Axes>"
      ]
     },
     "metadata": {
      "needs_background": "light"
     },
     "output_type": "display_data"
    }
   ],
   "source": [
    "plot_attention_weights(sentence,\n",
    "                       translated_tokens,\n",
    "                       attention_weights[0])"
   ]
  }
 ],
 "metadata": {
  "kernelspec": {
   "display_name": "Python 3 (ipykernel)",
   "language": "python",
   "name": "python3"
  },
  "language_info": {
   "codemirror_mode": {
    "name": "ipython",
    "version": 3
   },
   "file_extension": ".py",
   "mimetype": "text/x-python",
   "name": "python",
   "nbconvert_exporter": "python",
   "pygments_lexer": "ipython3",
   "version": "3.9.12"
  }
 },
 "nbformat": 4,
 "nbformat_minor": 5
}
